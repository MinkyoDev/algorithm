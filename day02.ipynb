{
 "cells": [
  {
   "cell_type": "markdown",
   "metadata": {},
   "source": [
    "## Day02"
   ]
  },
  {
   "cell_type": "markdown",
   "metadata": {},
   "source": [
    "#### 힙정렬"
   ]
  },
  {
   "cell_type": "code",
   "execution_count": 6,
   "metadata": {},
   "outputs": [
    {
     "data": {
      "text/plain": [
       "[9, 8, 6, 7, 2, 1, 3, 4]"
      ]
     },
     "execution_count": 6,
     "metadata": {},
     "output_type": "execute_result"
    }
   ],
   "source": [
    "def heapify(unsorted, index, heap_size):\n",
    "    largest = index\n",
    "    left = 2 * index + 1\n",
    "    right = 2 * index + 2\n",
    "\n",
    "    if left < heap_size and unsorted[left] > unsorted[largest]:\n",
    "        largest = left\n",
    "    \n",
    "    if right < heap_size and unsorted[right] > unsorted[largest]:\n",
    "        largest = right\n",
    "\n",
    "    if largest != index:\n",
    "        unsorted[largest], unsorted[index] = unsorted[index], unsorted[largest]\n",
    "        heapify(unsorted, largest, heap_size)\n",
    "\n",
    "def heap_sort(unsorted):\n",
    "    n = len(unsorted)\n",
    "\n",
    "    for i in range(n//2-1, -1, -1):\n",
    "        heapify(unsorted, i, n)\n",
    "\n",
    "    # for i in range(n - 1, 0, -1):\n",
    "    #     unsorted[0], unsorted[i] = unsorted[i], unsorted[0]\n",
    "    #     heapify(unsorted, 0, i)\n",
    "\n",
    "    return unsorted\n",
    "\n",
    "array = [4, 2, 6, 7, 9, 1, 3, 8]\n",
    "heap_sort(array)"
   ]
  },
  {
   "cell_type": "markdown",
   "metadata": {},
   "source": [
    "#### 프로그래머스: 행렬의 곱셈\n",
    "\n",
    "https://school.programmers.co.kr/learn/courses/30/lessons/12949"
   ]
  },
  {
   "cell_type": "code",
   "execution_count": 3,
   "metadata": {},
   "outputs": [],
   "source": [
    "def solution(arr1, arr2):\n",
    "    answer = []\n",
    "    for i in range(len(arr1)):\n",
    "        row = []\n",
    "        for j in range(len(arr2[0])):\n",
    "            row.append(sum([arr1[i][k] * arr2[k][j] for k in range(len(arr1[i]))]))\n",
    "        answer.append(row)\n",
    "    \n",
    "    return answer"
   ]
  },
  {
   "cell_type": "markdown",
   "metadata": {},
   "source": [
    "#### 백준: 최대힙 11279\n",
    "\n",
    "https://www.acmicpc.net/problem/11279"
   ]
  },
  {
   "cell_type": "code",
   "execution_count": 7,
   "metadata": {},
   "outputs": [],
   "source": [
    "import sys\n",
    "\n",
    "# 최대 힙을 저장할 리스트\n",
    "max_heap = []\n",
    "\n",
    "# 입력으로 주어질 숫자의 개수\n",
    "n = int(sys.stdin.readline())\n",
    "\n",
    "# 힙에 값을 삽입하는 함수 (최대 힙 구조 유지)\n",
    "def push(heap, value):\n",
    "    # 힙에 새로운 값을 추가\n",
    "    heap.append(value)\n",
    "    # 새로 추가된 값의 인덱스\n",
    "    idx = len(heap) - 1\n",
    "\n",
    "    # 부모 노드와 비교하며 최대 힙 조건을 만족할 때까지 위로 이동\n",
    "    while idx > 0:\n",
    "        # 부모 노드의 인덱스 계산\n",
    "        parent = (idx - 1) // 2\n",
    "\n",
    "        # 부모 노드가 현재 노드보다 크거나 같으면 더 이상 위로 갈 필요가 없음\n",
    "        if heap[parent] >= heap[idx]:\n",
    "            break\n",
    "\n",
    "        # 부모 노드와 현재 노드를 교환 (최대 힙 유지)\n",
    "        heap[idx], heap[parent] = heap[parent], heap[idx]\n",
    "\n",
    "        # 인덱스를 부모 노드로 이동하여 계속 비교\n",
    "        idx = parent\n",
    "\n",
    "# 힙에서 최대값을 꺼내는 함수 (최대 힙 구조 유지)\n",
    "def pop(heap):\n",
    "    # 힙이 비었으면 0 반환\n",
    "    if not heap:\n",
    "        return 0\n",
    "\n",
    "    # 루트(최댓값)와 마지막 값을 교환 후, 마지막 값을 꺼냄\n",
    "    heap[0], heap[-1] = heap[-1], heap[0]\n",
    "    max_value = heap.pop()  # 실제로 마지막 값을 제거\n",
    "\n",
    "    # 힙이 비었을 경우 바로 반환\n",
    "    if not heap:\n",
    "        return max_value\n",
    "\n",
    "    # 루트에서부터 힙을 재정렬\n",
    "    idx = 0\n",
    "    size = len(heap)\n",
    "\n",
    "    # 자식 노드들과 비교하여 최대 힙 구조를 복원\n",
    "    while True:\n",
    "        # 왼쪽 자식 노드의 인덱스\n",
    "        left = 2 * idx + 1\n",
    "        # 오른쪽 자식 노드의 인덱스\n",
    "        right = 2 * idx + 2\n",
    "        # 현재 노드의 인덱스를 가장 큰 값으로 가정\n",
    "        largest = idx\n",
    "\n",
    "        # 왼쪽 자식이 존재하고, 그 값이 현재 노드보다 크면 largest 갱신\n",
    "        if left < size and heap[left] > heap[largest]:\n",
    "            largest = left\n",
    "        # 오른쪽 자식이 존재하고, 그 값이 현재 largest 값보다 크면 largest 갱신\n",
    "        if right < size and heap[right] > heap[largest]:\n",
    "            largest = right\n",
    "\n",
    "        # 더 이상 교환할 필요가 없으면 루프 종료\n",
    "        if largest == idx:\n",
    "            break\n",
    "\n",
    "        # 현재 노드와 largest 자식 노드를 교환\n",
    "        heap[idx], heap[largest] = heap[largest], heap[idx]\n",
    "\n",
    "        # 인덱스를 largest로 이동하여 다시 비교\n",
    "        idx = largest\n",
    "\n",
    "    return max_value\n",
    "\n",
    "# 입력된 n개의 숫자를 처리\n",
    "for i in range(n):\n",
    "    # 입력된 숫자를 읽음\n",
    "    num = int(sys.stdin.readline())\n",
    "\n",
    "    # 숫자가 0이면 최대값을 출력 (pop), 아니면 힙에 추가 (push)\n",
    "    if num == 0:\n",
    "        # 힙에서 최대값을 꺼내 출력, 비어있으면 0 출력\n",
    "        print(pop(max_heap))\n",
    "    else:\n",
    "        # 힙에 숫자 추가\n",
    "        push(max_heap, num)"
   ]
  },
  {
   "cell_type": "markdown",
   "metadata": {},
   "source": [
    "#### 프로그래머스 : 실패율\n",
    "\n",
    "https://school.programmers.co.kr/learn/courses/30/lessons/42889"
   ]
  },
  {
   "cell_type": "code",
   "execution_count": 18,
   "metadata": {},
   "outputs": [
    {
     "data": {
      "text/plain": [
       "[4, 1, 2, 3]"
      ]
     },
     "execution_count": 18,
     "metadata": {},
     "output_type": "execute_result"
    }
   ],
   "source": [
    "def solution(N, stages):\n",
    "    f_list = []\n",
    "\n",
    "    for n in range(1, N+1):\n",
    "        total = len([stage for stage in stages if stage >= n])\n",
    "        fail = total - len([stage for stage in stages if stage > n])\n",
    "        f_list.append((n, fail/total))\n",
    "\n",
    "    for i in range(len(f_list)):\n",
    "        for j in range(i+1, len(f_list)):\n",
    "            if f_list[i][1] < f_list[j][1]:\n",
    "                f_list[i], f_list[j] = f_list[j], f_list[i]\n",
    "            if f_list[i][1] == f_list[j][1]:\n",
    "                if f_list[i][0] > f_list[j][0]:\n",
    "                    f_list[i], f_list[j] = f_list[j], f_list[i]\n",
    "\n",
    "    return [i[0] for i in f_list]\n",
    "\n",
    "# solution(5, [2, 1, 2, 6, 2, 4, 3, 3])\n",
    "solution(4, [4,4,4,4,4])"
   ]
  },
  {
   "cell_type": "code",
   "execution_count": 38,
   "metadata": {},
   "outputs": [
    {
     "data": {
      "text/plain": [
       "[3, 2, 1, 4, 5]"
      ]
     },
     "execution_count": 38,
     "metadata": {},
     "output_type": "execute_result"
    }
   ],
   "source": [
    "def solution(N, stages: list):\n",
    "    # 실패율 리스트 정의\n",
    "    f_list = []\n",
    "\n",
    "    # 총 스테이지 계산\n",
    "    total = len(stages)\n",
    "    for n in range(1, N+1):\n",
    "        # 실패한 스테이지 계산\n",
    "        # fail = len([stage for stage in stages if stage == n])\n",
    "        fail = stages.count(n)\n",
    "\n",
    "        # zero division err 해결을 위해 total이 0일때 실패율을 0으로 고정\n",
    "        if total == 0:\n",
    "            f_list.append((n, 0))\n",
    "        else:\n",
    "            f_list.append((n, fail/total))\n",
    "            # 남은 사용자 수 업데이트\n",
    "            total -= fail\n",
    "\n",
    "    # 버블정렬\n",
    "    for i in range(len(f_list)):\n",
    "        for j in range(i+1, len(f_list)):\n",
    "            # 실패율이 높은 쪽이 앞으로 가도록 정렬\n",
    "            if f_list[i][1] < f_list[j][1]:\n",
    "                f_list[i], f_list[j] = f_list[j], f_list[i]\n",
    "            # 실패율이 같다면 스테이지가 낮은 쪽이 앞으로 가도록 정렬\n",
    "            if f_list[i][1] == f_list[j][1]:\n",
    "                if f_list[i][0] > f_list[j][0]:\n",
    "                    f_list[i], f_list[j] = f_list[j], f_list[i]\n",
    "\n",
    "    # 실패율을 제외하고 스테이지 번호만 반환\n",
    "    return [i[0] for i in f_list]\n",
    "\n",
    "# solution(5, [])\n",
    "solution(5, [2, 1, 2, 3, 2, 3, 3, 3])\n",
    "# solution(5, [2, 1, 2, 6, 2, 4, 3, 3])\n",
    "# solution(4, [4,4,4,4,4])"
   ]
  },
  {
   "cell_type": "markdown",
   "metadata": {},
   "source": [
    "#### 프로그래머스 : 올바른 괄호\n",
    "\n",
    "https://school.programmers.co.kr/learn/courses/30/lessons/12909"
   ]
  },
  {
   "cell_type": "code",
   "execution_count": null,
   "metadata": {},
   "outputs": [],
   "source": [
    "# 기존 풀이\n",
    "def solution(s):\n",
    "    open = 0\n",
    "    for i in s:\n",
    "        if i == '(':\n",
    "            open += 1\n",
    "        elif i == ')':\n",
    "            open -= 1\n",
    "        \n",
    "        if open < 0:\n",
    "            return False\n",
    "    else:\n",
    "        if open == 0:\n",
    "            return True\n",
    "        else:\n",
    "            return False"
   ]
  },
  {
   "cell_type": "code",
   "execution_count": 56,
   "metadata": {},
   "outputs": [
    {
     "data": {
      "text/plain": [
       "False"
      ]
     },
     "execution_count": 56,
     "metadata": {},
     "output_type": "execute_result"
    }
   ],
   "source": [
    "def solution(s):\n",
    "    # 스택 정의\n",
    "    stack = []\n",
    "\n",
    "    for i in s:\n",
    "        # 스택이 비어있다면 추가\n",
    "        if not stack:\n",
    "            stack.append(i)\n",
    "            continue\n",
    "\n",
    "        # 스택 마지막과 다음 문자 비교\n",
    "        first = stack.pop()\n",
    "        second = i\n",
    "\n",
    "        # 둘이 합쳐서 괄호가 닫히면 패스 아니면 스택에 저장\n",
    "        if first == \"(\" and second == \")\":\n",
    "            pass\n",
    "        else:\n",
    "            stack.append(first)\n",
    "            stack.append(second)\n",
    "        \n",
    "    return stack == []\n",
    "\n",
    "# solution(\"(())()\")\n",
    "solution(\"(()(\")"
   ]
  },
  {
   "cell_type": "markdown",
   "metadata": {},
   "source": [
    "#### 프로그래머스 : 짝지어 제거하기\n",
    "\n",
    "https://school.programmers.co.kr/learn/courses/30/lessons/12973"
   ]
  },
  {
   "cell_type": "code",
   "execution_count": null,
   "metadata": {},
   "outputs": [],
   "source": [
    "# 기존 풀이\n",
    "from collections import deque\n",
    "\n",
    "def solution(s):\n",
    "    que = deque(i for i in s)\n",
    "    \n",
    "    for i in s:\n",
    "        \n",
    "        if que[0] == que[1]:\n",
    "            que.popleft()\n",
    "            que.popleft()\n",
    "        else:\n",
    "            que.rotate(-1)\n",
    "        if len(que) <= 2:\n",
    "            break\n",
    "    \n",
    "    return 0 if que else 1\n",
    "        "
   ]
  },
  {
   "cell_type": "code",
   "execution_count": 69,
   "metadata": {},
   "outputs": [
    {
     "data": {
      "text/plain": [
       "1"
      ]
     },
     "execution_count": 69,
     "metadata": {},
     "output_type": "execute_result"
    }
   ],
   "source": [
    "def solution(s):\n",
    "    # 스택 정의\n",
    "    stack = []\n",
    "\n",
    "    for i in s:\n",
    "        # 스택이 비어있다면 추가\n",
    "        if not stack:\n",
    "            stack.append(i)\n",
    "            continue\n",
    "\n",
    "        # 스택 마지막과 다음 문자 비교\n",
    "        first = stack.pop()\n",
    "        second = i\n",
    "\n",
    "        # 둘이 같은 문자라면 패스 아니면 스택에 저장\n",
    "        if first == second:\n",
    "            pass\n",
    "        else:\n",
    "            stack.append(first)\n",
    "            stack.append(second)\n",
    "\n",
    "    return 1 if len(stack) == 0 else 0\n",
    "\n",
    "solution(\"baabaa\")\n",
    "# solution(\"cdcd\")"
   ]
  },
  {
   "cell_type": "markdown",
   "metadata": {},
   "source": [
    "#### 프로그래머스 : 크레인 인형 뽑기 게임\n",
    "\n",
    "https://school.programmers.co.kr/learn/courses/30/lessons/64061"
   ]
  },
  {
   "cell_type": "code",
   "execution_count": 94,
   "metadata": {},
   "outputs": [
    {
     "data": {
      "text/plain": [
       "4"
      ]
     },
     "execution_count": 94,
     "metadata": {},
     "output_type": "execute_result"
    }
   ],
   "source": [
    "def solution(board, moves):\n",
    "    basket = []\n",
    "    answer = 0\n",
    "\n",
    "    # 뽑기를 쉽게 하기 위하여 배열을 90도 회전 및 0 삭제\n",
    "    new_board = []\n",
    "    for i in range(len(board[0])):\n",
    "        rotate = [board[j][i] for j in range(len(board)-1, -1, -1) if board[j][i] != 0]\n",
    "        new_board.append(rotate)\n",
    "\n",
    "    # 회전한 배열에서 인형 뽑기\n",
    "    for move in moves:\n",
    "        if new_board[move-1]:\n",
    "            doll = new_board[move-1].pop()\n",
    "\n",
    "            # 바구니가 비어있다면 인형 추가\n",
    "            if not basket:\n",
    "                basket.append(doll)\n",
    "            else:\n",
    "                # 바구니의 인형과 뽑은 인형을 비교하여 정답 계산\n",
    "                f = basket.pop()\n",
    "                if f != doll:\n",
    "                    basket.append(f)\n",
    "                    basket.append(doll)\n",
    "                else:\n",
    "                    answer += 2\n",
    "\n",
    "    return answer\n",
    "\n",
    "\n",
    "board = [[0,0,0,0,0],[0,0,1,0,3],[0,2,5,0,1],[4,2,4,4,2],[3,5,1,3,1]]\n",
    "moves = [1,5,3,5,1,2,1,4]\n",
    "solution(board, moves)"
   ]
  },
  {
   "cell_type": "markdown",
   "metadata": {},
   "source": [
    "#### 프로그래머스 : 같은 숫자는 싫어"
   ]
  },
  {
   "cell_type": "code",
   "execution_count": 97,
   "metadata": {},
   "outputs": [
    {
     "data": {
      "text/plain": [
       "[1, 3, 0, 1]"
      ]
     },
     "execution_count": 97,
     "metadata": {},
     "output_type": "execute_result"
    }
   ],
   "source": [
    "def solution(arr):\n",
    "    rem = None\n",
    "    answer = []\n",
    "    for i in arr:\n",
    "        if rem != i:\n",
    "            rem = i\n",
    "            answer.append(i)\n",
    "    return answer\n",
    "\n",
    "solution([1,1,3,3,0,1,1])"
   ]
  },
  {
   "cell_type": "code",
   "execution_count": 96,
   "metadata": {},
   "outputs": [
    {
     "data": {
      "text/plain": [
       "[1, 3, 0, 1]"
      ]
     },
     "execution_count": 96,
     "metadata": {},
     "output_type": "execute_result"
    }
   ],
   "source": [
    "def solution(arr):\n",
    "    answer = []\n",
    "    for i in arr:\n",
    "        if not answer:\n",
    "            answer.append(i)\n",
    "        elif answer[-1] != i:\n",
    "            answer.append(i)\n",
    "    \n",
    "    return answer\n",
    "\n",
    "solution([1,1,3,3,0,1,1])"
   ]
  },
  {
   "cell_type": "markdown",
   "metadata": {},
   "source": [
    "#### 프로그래머스 : 기능개발"
   ]
  },
  {
   "cell_type": "markdown",
   "metadata": {},
   "source": [
    "#### 프로그래머스 : 프로세스"
   ]
  },
  {
   "cell_type": "code",
   "execution_count": 15,
   "metadata": {},
   "outputs": [
    {
     "data": {
      "text/plain": [
       "1"
      ]
     },
     "execution_count": 15,
     "metadata": {},
     "output_type": "execute_result"
    }
   ],
   "source": [
    "def solution(priorities: list, location):\n",
    "    priorities = [(idx, priority) for idx, priority in enumerate(priorities)]\n",
    "    answer = 0\n",
    "    while priorities:\n",
    "        if priorities[0][1] == max([priority[1] for priority in priorities]):\n",
    "            answer += 1\n",
    "            if priorities.pop(0)[0] == location:\n",
    "                return answer\n",
    "        else:\n",
    "            priorities.append(priorities.pop(0))\n",
    "\n",
    "solution([2, 1, 3, 2], 2)"
   ]
  }
 ],
 "metadata": {
  "kernelspec": {
   "display_name": "coding_test",
   "language": "python",
   "name": "python3"
  },
  "language_info": {
   "codemirror_mode": {
    "name": "ipython",
    "version": 3
   },
   "file_extension": ".py",
   "mimetype": "text/x-python",
   "name": "python",
   "nbconvert_exporter": "python",
   "pygments_lexer": "ipython3",
   "version": "3.10.15"
  }
 },
 "nbformat": 4,
 "nbformat_minor": 2
}
