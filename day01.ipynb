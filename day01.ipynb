{
 "cells": [
  {
   "cell_type": "markdown",
   "metadata": {},
   "source": [
    "### 파이썬 심화"
   ]
  },
  {
   "cell_type": "markdown",
   "metadata": {},
   "source": [
    "#### enumerate"
   ]
  },
  {
   "cell_type": "code",
   "execution_count": 13,
   "metadata": {},
   "outputs": [
    {
     "name": "stdout",
     "output_type": "stream",
     "text": [
      "대기번호 1번 : 펭수\n",
      "대기번호 2번 : 뽀로로\n",
      "대기번호 3번 : 뚝딱이\n",
      "대기번호 4번 : 텔레토비\n"
     ]
    }
   ],
   "source": [
    "def func1(people: list):\n",
    "    for idx, name in enumerate(people):\n",
    "        print(f\"대기번호 {idx+1}번 : {name}\")\n",
    "\n",
    "people = ['펭수', '뽀로로', '뚝딱이', '텔레토비']\n",
    "lines = func1(people)"
   ]
  },
  {
   "cell_type": "markdown",
   "metadata": {},
   "source": [
    "#### map"
   ]
  },
  {
   "cell_type": "code",
   "execution_count": 17,
   "metadata": {},
   "outputs": [
    {
     "name": "stdout",
     "output_type": "stream",
     "text": [
      "[1, 4, 9, 16, 25]\n"
     ]
    }
   ],
   "source": [
    "items = [1, 2, 3, 4, 5]\n",
    "squared_map = list(map(lambda x:x**2, items))\n",
    "print(squared_map)"
   ]
  },
  {
   "cell_type": "markdown",
   "metadata": {},
   "source": [
    "#### 부동소수점\n",
    "\n",
    "16자리까지만 유효하고 17자리부터는 유효하지 않음"
   ]
  },
  {
   "cell_type": "code",
   "execution_count": 24,
   "metadata": {},
   "outputs": [
    {
     "name": "stdout",
     "output_type": "stream",
     "text": [
      "소수점 늘리기 : 0.33333333333333331\n"
     ]
    }
   ],
   "source": [
    "percent = 1/3\n",
    "print(f'소수점 늘리기 : {percent:.17f}')"
   ]
  },
  {
   "cell_type": "code",
   "execution_count": 25,
   "metadata": {},
   "outputs": [
    {
     "name": "stdout",
     "output_type": "stream",
     "text": [
      "2.220446049250313e-16\n"
     ]
    }
   ],
   "source": [
    "import sys\n",
    "\n",
    "# 엡실론 출력\n",
    "print(sys.float_info.epsilon)\n",
    "\n",
    "a = 0.1 + 0.1 + 0.1\n",
    "b = 0.3"
   ]
  },
  {
   "cell_type": "markdown",
   "metadata": {},
   "source": [
    "#### Python memory\n",
    "\n",
    "-5 ~ 256까지는 같은 메모리(정적 메모리 할당)"
   ]
  },
  {
   "cell_type": "code",
   "execution_count": 21,
   "metadata": {},
   "outputs": [
    {
     "name": "stdout",
     "output_type": "stream",
     "text": [
      "True\n",
      "True\n"
     ]
    }
   ],
   "source": [
    "a = 5\n",
    "b = 5\n",
    "\n",
    "print(a == b)\n",
    "print(a is b)"
   ]
  },
  {
   "cell_type": "code",
   "execution_count": 22,
   "metadata": {},
   "outputs": [
    {
     "name": "stdout",
     "output_type": "stream",
     "text": [
      "True\n",
      "False\n"
     ]
    }
   ],
   "source": [
    "a = 300\n",
    "b = 300\n",
    "\n",
    "print(a == b)\n",
    "print(a is b)"
   ]
  },
  {
   "cell_type": "code",
   "execution_count": 23,
   "metadata": {},
   "outputs": [
    {
     "name": "stdout",
     "output_type": "stream",
     "text": [
      "True\n",
      "False\n"
     ]
    }
   ],
   "source": [
    "a = -6\n",
    "b = -6\n",
    "\n",
    "print(a == b)\n",
    "print(a is b)"
   ]
  },
  {
   "cell_type": "code",
   "execution_count": 63,
   "metadata": {},
   "outputs": [
    {
     "data": {
      "text/plain": [
       "[5, 50, 55, 500, 505, 550, 555]"
      ]
     },
     "execution_count": 63,
     "metadata": {},
     "output_type": "execute_result"
    }
   ],
   "source": [
    "def solution(l, r):     \n",
    "    answer = [i for i in range(l, r+1) if all([j=='5' or j=='0' for j in str(i)])]\n",
    "\n",
    "    return answer if answer else [-1]\n",
    "\n",
    "solution(5, 555)"
   ]
  },
  {
   "cell_type": "code",
   "execution_count": 65,
   "metadata": {},
   "outputs": [
    {
     "data": {
      "text/plain": [
       "[5, 50, 55, 500, 505, 550, 555]"
      ]
     },
     "execution_count": 65,
     "metadata": {},
     "output_type": "execute_result"
    }
   ],
   "source": [
    "def solution(l, r):     \n",
    "    answer = [i for i in range(l, r+1) if not set(str(i)) - set(['0', '5'])]\n",
    "\n",
    "    return answer if answer else [-1]\n",
    "\n",
    "solution(5, 555)"
   ]
  },
  {
   "cell_type": "markdown",
   "metadata": {},
   "source": [
    "#### 선택정렬"
   ]
  },
  {
   "cell_type": "code",
   "execution_count": 66,
   "metadata": {},
   "outputs": [],
   "source": [
    "def selection_sort(arr):\n",
    "    for i in range(len(arr) - 1):\n",
    "        min_idx = 1\n",
    "        for j in range(i + 1, len(arr)):\n",
    "            if arr[j] < arr[min_idx]:\n",
    "                min_idx = j\n",
    "        arr[i], arr[min_idx] = arr[min_idx], arr[i]"
   ]
  },
  {
   "cell_type": "markdown",
   "metadata": {},
   "source": [
    "#### 삽입정렬"
   ]
  },
  {
   "cell_type": "code",
   "execution_count": 67,
   "metadata": {},
   "outputs": [],
   "source": [
    "def insertion_sort(arr):\n",
    "    for end in range(1, len(arr)):\n",
    "        for i in range(end, 0 , -1):\n",
    "            if arr[i - 1] > arr[i]:\n",
    "                arr[i - 1], arr[i] = arr[i], arr[i -1]"
   ]
  },
  {
   "cell_type": "code",
   "execution_count": 69,
   "metadata": {},
   "outputs": [
    {
     "name": "stdout",
     "output_type": "stream",
     "text": [
      "0\n",
      "1\n",
      "2\n",
      "3\n",
      "4\n",
      "5\n"
     ]
    }
   ],
   "source": [
    "for i in range(6):\n",
    "    print(i)"
   ]
  },
  {
   "cell_type": "code",
   "execution_count": 71,
   "metadata": {},
   "outputs": [
    {
     "name": "stdout",
     "output_type": "stream",
     "text": [
      "6\n",
      "5\n",
      "4\n",
      "3\n",
      "2\n",
      "1\n"
     ]
    }
   ],
   "source": [
    "for i in range(6, 0, -1):\n",
    "    print(i)"
   ]
  },
  {
   "cell_type": "code",
   "execution_count": 73,
   "metadata": {},
   "outputs": [],
   "source": [
    "for i in range(0, 6, -1):\n",
    "    print(i)"
   ]
  },
  {
   "cell_type": "markdown",
   "metadata": {},
   "source": [
    "#### 합병정령"
   ]
  },
  {
   "cell_type": "code",
   "execution_count": 74,
   "metadata": {},
   "outputs": [],
   "source": [
    "def merge_sort(arr):\n",
    "    if len(arr) < 2:\n",
    "        return arr\n",
    "    \n",
    "    mid = len(arr) // 2\n",
    "    low_arr = merge_sort(arr[:mid])\n",
    "    high_arr = merge_sort(arr[mid:])\n",
    "\n",
    "    merged_arr = []\n",
    "    l = h = 0\n",
    "    while l < len(low_arr) and h < len(high_arr):\n",
    "        if low_arr[l] < high_arr[h]:\n",
    "            merged_arr.append(low_arr[l])\n",
    "            l += 1\n",
    "        else:\n",
    "            merged_arr.append(high_arr[h])\n",
    "            h += 1\n",
    "        \n",
    "    merged_arr += low_arr[l:]\n",
    "    merged_arr += high_arr[h:]\n",
    "    return merged_arr"
   ]
  },
  {
   "cell_type": "markdown",
   "metadata": {},
   "source": [
    "#### 퀵정렬"
   ]
  },
  {
   "cell_type": "code",
   "execution_count": 76,
   "metadata": {},
   "outputs": [
    {
     "name": "stdout",
     "output_type": "stream",
     "text": [
      "[0, 1, 2, 3, 4, 5, 6, 7, 8, 9]\n"
     ]
    }
   ],
   "source": [
    "array = [5, 7, 9, 0, 3, 1, 6, 2, 4, 8]\n",
    "\n",
    "def quick_sort(array, start, end):\n",
    "    if start >= end:\n",
    "        return\n",
    "    \n",
    "    pivot = start    # 피벗 초기값은 첫번째 요소\n",
    "    left = start + 1\n",
    "    right = end\n",
    "\n",
    "    while left <= right:\n",
    "        # 피벗보다 큰 데이터를 찾을 때까지 반복\n",
    "        while left <= end and array[left] <= array[pivot]:\n",
    "            left += 1\n",
    "        \n",
    "        # 피벗보다 작은 데이터를 찾을 때까지 반복\n",
    "        while right > start and array[right] >= array[pivot]:\n",
    "            right -= 1\n",
    "        \n",
    "        # 엇갈렸다면 작은 right -= 1 데이터와 피벗을 교체\n",
    "        if left > right:\n",
    "            array[right], array[pivot] = array[pivot], array[right]\n",
    "\n",
    "        # 엇갈리지 않았다면 작은 데이터와 큰 데이터 교체\n",
    "        else:\n",
    "            array[left], array[right] = array[right], array[left]\n",
    "        \n",
    "    # 분할 이후 왼쪽 부분과 오른쪽 부분에서 각각 정려 수행\n",
    "    quick_sort (array, start, right - 1)\n",
    "    quick_sort (array, right + 1, end)\n",
    "\n",
    "quick_sort(array, 0, len(array) - 1)\n",
    "print(array)"
   ]
  },
  {
   "cell_type": "markdown",
   "metadata": {},
   "source": [
    "#### 백준 2750: 수 정렬하기"
   ]
  },
  {
   "cell_type": "code",
   "execution_count": 81,
   "metadata": {},
   "outputs": [
    {
     "name": "stdout",
     "output_type": "stream",
     "text": [
      "[]\n"
     ]
    }
   ],
   "source": [
    "N = int(input())\n",
    "\n",
    "data_list = []\n",
    "for _ in range(N):\n",
    "    data = int(input())\n",
    "    data_list.append(data)\n",
    "\n",
    "for i in range(len(data_list), 0, -1):\n",
    "    for j in range(len(data_list)-1):\n",
    "        if data_list[j] > data_list[j+1]:\n",
    "            data_list[j], data_list[j+1] = data_list[j+1], data_list[j]\n",
    "\n",
    "for data in data_list:\n",
    "    print(data)"
   ]
  },
  {
   "cell_type": "code",
   "execution_count": 1,
   "metadata": {},
   "outputs": [
    {
     "ename": "ValueError",
     "evalue": "invalid literal for int() with base 10: ''",
     "output_type": "error",
     "traceback": [
      "\u001b[1;31m---------------------------------------------------------------------------\u001b[0m",
      "\u001b[1;31mValueError\u001b[0m                                Traceback (most recent call last)",
      "Cell \u001b[1;32mIn[1], line 1\u001b[0m\n\u001b[1;32m----> 1\u001b[0m N \u001b[38;5;241m=\u001b[39m \u001b[38;5;28;43mint\u001b[39;49m\u001b[43m(\u001b[49m\u001b[38;5;28;43minput\u001b[39;49m\u001b[43m(\u001b[49m\u001b[43m)\u001b[49m\u001b[43m)\u001b[49m\n\u001b[0;32m      3\u001b[0m data_list \u001b[38;5;241m=\u001b[39m []\n\u001b[0;32m      4\u001b[0m \u001b[38;5;28;01mfor\u001b[39;00m _ \u001b[38;5;129;01min\u001b[39;00m \u001b[38;5;28mrange\u001b[39m(N):\n",
      "\u001b[1;31mValueError\u001b[0m: invalid literal for int() with base 10: ''"
     ]
    }
   ],
   "source": [
    "N = int(input())\n",
    "\n",
    "data_list = []\n",
    "for _ in range(N):\n",
    "    data = int(input())\n",
    "    data_list.append(data)\n",
    "\n",
    "for i in range(1, len(data_list)):\n",
    "    for j in range(i, 0, -1):\n",
    "        print(f\"i: {i} / j: {j-1}\")\n",
    "        if data_list[j-1] > data_list[i]:\n",
    "            data_list[j-1], data_list[i] = data_list[i], data_list[j-1]\n",
    "            print(data_list)\n",
    "        else:\n",
    "            break\n",
    "        \n",
    "\n",
    "for data in data_list:\n",
    "    print(data)"
   ]
  }
 ],
 "metadata": {
  "kernelspec": {
   "display_name": "coding_test",
   "language": "python",
   "name": "python3"
  },
  "language_info": {
   "codemirror_mode": {
    "name": "ipython",
    "version": 3
   },
   "file_extension": ".py",
   "mimetype": "text/x-python",
   "name": "python",
   "nbconvert_exporter": "python",
   "pygments_lexer": "ipython3",
   "version": "3.10.15"
  }
 },
 "nbformat": 4,
 "nbformat_minor": 2
}
