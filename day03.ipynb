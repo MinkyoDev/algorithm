{
 "cells": [
  {
   "cell_type": "markdown",
   "metadata": {},
   "source": [
    "## Day03"
   ]
  },
  {
   "cell_type": "markdown",
   "metadata": {},
   "source": [
    "#### 이진탐색"
   ]
  },
  {
   "cell_type": "code",
   "execution_count": 1,
   "metadata": {},
   "outputs": [],
   "source": [
    "def binary_search(target, data):\n",
    "    data.sort()\n",
    "    start = 0\n",
    "    end = "
   ]
  },
  {
   "cell_type": "markdown",
   "metadata": {},
   "source": [
    "#### 프로그래머스 : 모의고사\n",
    "\n",
    "https://school.programmers.co.kr/learn/courses/30/lessons/42840"
   ]
  },
  {
   "cell_type": "code",
   "execution_count": null,
   "metadata": {},
   "outputs": [],
   "source": [
    "def count_solved_problems(answers, patterns):\n",
    "    my_answer = (patterns*(len(answers)//len(patterns)+1))[:len(answers)]\n",
    "    return len([1 for i, j in zip(answers, my_answer) if i==j])\n",
    "    \n",
    "def solution(answers):    \n",
    "    patterns = [[1,2,3,4,5], [2,1,2,3,2,4,2,5], [3,3,1,1,2,2,4,4,5,5]]\n",
    "    results = [count_solved_problems(answers, patterns[0]), \n",
    "              count_solved_problems(answers, patterns[1]), \n",
    "              count_solved_problems(answers, patterns[2])]\n",
    "\n",
    "    return [idx+1 for idx, i in enumerate(results) if i==max(results)]"
   ]
  },
  {
   "cell_type": "code",
   "execution_count": 24,
   "metadata": {},
   "outputs": [
    {
     "data": {
      "text/plain": [
       "[1]"
      ]
     },
     "execution_count": 24,
     "metadata": {},
     "output_type": "execute_result"
    }
   ],
   "source": [
    "def solution(answers):\n",
    "    patterns = [[1,2,3,4,5], [2,1,2,3,2,4,2,5], [3,3,1,1,2,2,4,4,5,5]]\n",
    "\n",
    "    scores = []\n",
    "    for pattern in patterns:\n",
    "        score = 0\n",
    "        a1 = len(answers) // len(pattern) + (1 if len(answers) % len(pattern) != 0 else 0)\n",
    "        for p, answer in zip((pattern * a1)[:len(answers)], answers):\n",
    "            score += 1 if p == answer else 0 \n",
    "        scores.append(score)\n",
    "    \n",
    "    return [idx+1 for idx, score in enumerate(scores) if score == max(scores)]\n",
    "\n",
    "solution([1,2,3,4,5,1])\n",
    "# solution([1,3,2,4,2])"
   ]
  },
  {
   "cell_type": "code",
   "execution_count": null,
   "metadata": {},
   "outputs": [],
   "source": []
  },
  {
   "cell_type": "code",
   "execution_count": null,
   "metadata": {},
   "outputs": [],
   "source": []
  }
 ],
 "metadata": {
  "kernelspec": {
   "display_name": "coding_test",
   "language": "python",
   "name": "python3"
  },
  "language_info": {
   "codemirror_mode": {
    "name": "ipython",
    "version": 3
   },
   "file_extension": ".py",
   "mimetype": "text/x-python",
   "name": "python",
   "nbconvert_exporter": "python",
   "pygments_lexer": "ipython3",
   "version": "3.10.15"
  }
 },
 "nbformat": 4,
 "nbformat_minor": 2
}
